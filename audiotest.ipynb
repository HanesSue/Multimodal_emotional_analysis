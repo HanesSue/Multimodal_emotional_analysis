{
 "cells": [
  {
   "cell_type": "code",
   "execution_count": null,
   "metadata": {},
   "outputs": [],
   "source": [
    "from utils import SIMSData\n",
    "from transformers import Wav2Vec2FeatureExtractor, WavLMModel"
   ]
  },
  {
   "cell_type": "code",
   "execution_count": 20,
   "metadata": {},
   "outputs": [],
   "source": [
    "processor = Wav2Vec2FeatureExtractor.from_pretrained(\"microsoft/wavlm-base-plus\")\n",
    "model = WavLMModel.from_pretrained(\"microsoft/wavlm-base-plus\")"
   ]
  },
  {
   "cell_type": "code",
   "execution_count": null,
   "metadata": {},
   "outputs": [],
   "source": [
    "ch_sims = SIMSData(root=\"./data/ch-sims2s/ch-simsv2s\", mode=\"train\", rebuild=True)"
   ]
  },
  {
   "cell_type": "code",
   "execution_count": null,
   "metadata": {},
   "outputs": [
    {
     "data": {
      "text/plain": [
       "('./data/ch-sims2s/ch-simsv2s\\\\Raw\\\\video_0001/0001.mp4',\n",
       " tensor([[ 0.0000,  0.0000,  0.0000,  ..., -0.0432, -0.0455, -0.0487]]),\n",
       " '我不想嫁给李茶',\n",
       " [-1.0, -1.0, -1.0, -1.0])"
      ]
     },
     "execution_count": 7,
     "metadata": {},
     "output_type": "execute_result"
    }
   ],
   "source": [
    "ch_sims[0]"
   ]
  }
 ],
 "metadata": {
  "kernelspec": {
   "display_name": "global",
   "language": "python",
   "name": "python3"
  },
  "language_info": {
   "codemirror_mode": {
    "name": "ipython",
    "version": 3
   },
   "file_extension": ".py",
   "mimetype": "text/x-python",
   "name": "python",
   "nbconvert_exporter": "python",
   "pygments_lexer": "ipython3",
   "version": "3.12.4"
  }
 },
 "nbformat": 4,
 "nbformat_minor": 2
}
