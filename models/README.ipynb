{
 "cells": [
  {
   "cell_type": "markdown",
   "id": "3d66efc1",
   "metadata": {},
   "source": [
    "# 使用示例"
   ]
  },
  {
   "cell_type": "markdown",
   "id": "d88f7cc0",
   "metadata": {},
   "source": [
    "# 1.使用train模式"
   ]
  },
  {
   "cell_type": "code",
   "execution_count": 1,
   "id": "737eeddc",
   "metadata": {},
   "outputs": [
    {
     "name": "stderr",
     "output_type": "stream",
     "text": [
      "c:\\Users\\12592\\.conda\\envs\\machinelearning\\Lib\\site-packages\\tqdm\\auto.py:21: TqdmWarning: IProgress not found. Please update jupyter and ipywidgets. See https://ipywidgets.readthedocs.io/en/stable/user_install.html\n",
      "  from .autonotebook import tqdm as notebook_tqdm\n"
     ]
    },
    {
     "name": "stdout",
     "output_type": "stream",
     "text": [
      "正在初始化文本情感分析器...\n",
      "加载数据集...\n",
      "加载预训练Bert-Chinese模型...\n",
      "模型初始化完毕,可调用train()方法进行训练\n"
     ]
    }
   ],
   "source": [
    "from text_model import text_model\n",
    "\n",
    "A = text_model(type= \"train\")"
   ]
  },
  {
   "cell_type": "code",
   "execution_count": 2,
   "id": "c08ccce3",
   "metadata": {},
   "outputs": [
    {
     "name": "stdout",
     "output_type": "stream",
     "text": [
      "\n",
      " 开始训练...\n",
      "\n",
      " Epoch 1/50\n"
     ]
    },
    {
     "name": "stderr",
     "output_type": "stream",
     "text": [
      "                                                                     \r"
     ]
    },
    {
     "name": "stdout",
     "output_type": "stream",
     "text": [
      " Train Loss: 0.5492 | Val MSE: 0.4116\n",
      " Model saved with improved Val MSE: 0.4116\n",
      "\n",
      " Epoch 2/50\n"
     ]
    },
    {
     "name": "stderr",
     "output_type": "stream",
     "text": [
      "                                                                     \r"
     ]
    },
    {
     "name": "stdout",
     "output_type": "stream",
     "text": [
      " Train Loss: 0.5000 | Val MSE: 0.3695\n",
      " Model saved with improved Val MSE: 0.3695\n",
      "\n",
      " Epoch 3/50\n"
     ]
    },
    {
     "name": "stderr",
     "output_type": "stream",
     "text": [
      "                                                                     \r"
     ]
    },
    {
     "name": "stdout",
     "output_type": "stream",
     "text": [
      " Train Loss: 0.4417 | Val MSE: 0.3460\n",
      " Model saved with improved Val MSE: 0.3460\n",
      "\n",
      " Epoch 4/50\n"
     ]
    },
    {
     "name": "stderr",
     "output_type": "stream",
     "text": [
      "                                                                     \r"
     ]
    },
    {
     "name": "stdout",
     "output_type": "stream",
     "text": [
      " Train Loss: 0.4163 | Val MSE: 0.3168\n",
      " Model saved with improved Val MSE: 0.3168\n",
      "\n",
      " Epoch 5/50\n"
     ]
    },
    {
     "name": "stderr",
     "output_type": "stream",
     "text": [
      "                                                                     \r"
     ]
    },
    {
     "name": "stdout",
     "output_type": "stream",
     "text": [
      " Train Loss: 0.3802 | Val MSE: 0.2797\n",
      " Model saved with improved Val MSE: 0.2797\n",
      "\n",
      " Epoch 6/50\n"
     ]
    },
    {
     "name": "stderr",
     "output_type": "stream",
     "text": [
      "                                                                     \r"
     ]
    },
    {
     "name": "stdout",
     "output_type": "stream",
     "text": [
      " Train Loss: 0.3180 | Val MSE: 0.2387\n",
      " Model saved with improved Val MSE: 0.2387\n",
      "\n",
      " Epoch 7/50\n"
     ]
    },
    {
     "name": "stderr",
     "output_type": "stream",
     "text": [
      "                                                                     \r"
     ]
    },
    {
     "name": "stdout",
     "output_type": "stream",
     "text": [
      " Train Loss: 0.2623 | Val MSE: 0.2064\n",
      " Model saved with improved Val MSE: 0.2064\n",
      "\n",
      " Epoch 8/50\n"
     ]
    },
    {
     "name": "stderr",
     "output_type": "stream",
     "text": [
      "                                                                      \r"
     ]
    },
    {
     "name": "stdout",
     "output_type": "stream",
     "text": [
      " Train Loss: 0.2239 | Val MSE: 0.1913\n",
      " Model saved with improved Val MSE: 0.1913\n",
      "\n",
      " Epoch 9/50\n"
     ]
    },
    {
     "name": "stderr",
     "output_type": "stream",
     "text": [
      "                                                                      \r"
     ]
    },
    {
     "name": "stdout",
     "output_type": "stream",
     "text": [
      " Train Loss: 0.2074 | Val MSE: 0.1817\n",
      " Model saved with improved Val MSE: 0.1817\n",
      "\n",
      " Epoch 10/50\n"
     ]
    },
    {
     "name": "stderr",
     "output_type": "stream",
     "text": [
      "                                                                      \r"
     ]
    },
    {
     "name": "stdout",
     "output_type": "stream",
     "text": [
      " Train Loss: 0.2021 | Val MSE: 0.1750\n",
      " Model saved with improved Val MSE: 0.1750\n",
      "\n",
      " Epoch 11/50\n"
     ]
    },
    {
     "name": "stderr",
     "output_type": "stream",
     "text": [
      "                                                                      \r"
     ]
    },
    {
     "name": "stdout",
     "output_type": "stream",
     "text": [
      " Train Loss: 0.1831 | Val MSE: 0.1711\n",
      " Model saved with improved Val MSE: 0.1711\n",
      "\n",
      " Epoch 12/50\n"
     ]
    },
    {
     "name": "stderr",
     "output_type": "stream",
     "text": [
      "                                                                      \r"
     ]
    },
    {
     "name": "stdout",
     "output_type": "stream",
     "text": [
      " Train Loss: 0.1694 | Val MSE: 0.1720\n",
      " EarlyStopping counter: 1/8\n",
      "\n",
      " Epoch 13/50\n"
     ]
    },
    {
     "name": "stderr",
     "output_type": "stream",
     "text": [
      "                                                                      \r"
     ]
    },
    {
     "name": "stdout",
     "output_type": "stream",
     "text": [
      " Train Loss: 0.1702 | Val MSE: 0.1654\n",
      " Model saved with improved Val MSE: 0.1654\n",
      "\n",
      " Epoch 14/50\n"
     ]
    },
    {
     "name": "stderr",
     "output_type": "stream",
     "text": [
      "                                                                      \r"
     ]
    },
    {
     "name": "stdout",
     "output_type": "stream",
     "text": [
      " Train Loss: 0.1587 | Val MSE: 0.1650\n",
      " Model saved with improved Val MSE: 0.1650\n",
      "\n",
      " Epoch 15/50\n"
     ]
    },
    {
     "name": "stderr",
     "output_type": "stream",
     "text": [
      "                                                                      \r"
     ]
    },
    {
     "name": "stdout",
     "output_type": "stream",
     "text": [
      " Train Loss: 0.1525 | Val MSE: 0.1626\n",
      " Model saved with improved Val MSE: 0.1626\n",
      "\n",
      " Epoch 16/50\n"
     ]
    },
    {
     "name": "stderr",
     "output_type": "stream",
     "text": [
      "                                                                      \r"
     ]
    },
    {
     "name": "stdout",
     "output_type": "stream",
     "text": [
      " Train Loss: 0.1513 | Val MSE: 0.1607\n",
      " Model saved with improved Val MSE: 0.1607\n",
      "\n",
      " Epoch 17/50\n"
     ]
    },
    {
     "name": "stderr",
     "output_type": "stream",
     "text": [
      "                                                                      \r"
     ]
    },
    {
     "name": "stdout",
     "output_type": "stream",
     "text": [
      " Train Loss: 0.1457 | Val MSE: 0.1587\n",
      " Model saved with improved Val MSE: 0.1587\n",
      "\n",
      " Epoch 18/50\n"
     ]
    },
    {
     "name": "stderr",
     "output_type": "stream",
     "text": [
      "                                                                      \r"
     ]
    },
    {
     "name": "stdout",
     "output_type": "stream",
     "text": [
      " Train Loss: 0.1345 | Val MSE: 0.1595\n",
      " EarlyStopping counter: 1/8\n",
      "\n",
      " Epoch 19/50\n"
     ]
    },
    {
     "name": "stderr",
     "output_type": "stream",
     "text": [
      "                                                                      \r"
     ]
    },
    {
     "name": "stdout",
     "output_type": "stream",
     "text": [
      " Train Loss: 0.1338 | Val MSE: 0.1577\n",
      " Model saved with improved Val MSE: 0.1577\n",
      "\n",
      " Epoch 20/50\n"
     ]
    },
    {
     "name": "stderr",
     "output_type": "stream",
     "text": [
      "                                                                      \r"
     ]
    },
    {
     "name": "stdout",
     "output_type": "stream",
     "text": [
      " Train Loss: 0.1268 | Val MSE: 0.1559\n",
      " Model saved with improved Val MSE: 0.1559\n",
      "\n",
      " Epoch 21/50\n"
     ]
    },
    {
     "name": "stderr",
     "output_type": "stream",
     "text": [
      "                                                                      \r"
     ]
    },
    {
     "name": "stdout",
     "output_type": "stream",
     "text": [
      " Train Loss: 0.1236 | Val MSE: 0.1546\n",
      " Model saved with improved Val MSE: 0.1546\n",
      "\n",
      " Epoch 22/50\n"
     ]
    },
    {
     "name": "stderr",
     "output_type": "stream",
     "text": [
      "                                                                      \r"
     ]
    },
    {
     "name": "stdout",
     "output_type": "stream",
     "text": [
      " Train Loss: 0.1153 | Val MSE: 0.1551\n",
      " EarlyStopping counter: 1/8\n",
      "\n",
      " Epoch 23/50\n"
     ]
    },
    {
     "name": "stderr",
     "output_type": "stream",
     "text": [
      "                                                                      \r"
     ]
    },
    {
     "name": "stdout",
     "output_type": "stream",
     "text": [
      " Train Loss: 0.1156 | Val MSE: 0.1546\n",
      " EarlyStopping counter: 2/8\n",
      "\n",
      " Epoch 24/50\n"
     ]
    },
    {
     "name": "stderr",
     "output_type": "stream",
     "text": [
      "                                                                      \r"
     ]
    },
    {
     "name": "stdout",
     "output_type": "stream",
     "text": [
      " Train Loss: 0.1101 | Val MSE: 0.1543\n",
      " Model saved with improved Val MSE: 0.1543\n",
      "\n",
      " Epoch 25/50\n"
     ]
    },
    {
     "name": "stderr",
     "output_type": "stream",
     "text": [
      "                                                                      \r"
     ]
    },
    {
     "name": "stdout",
     "output_type": "stream",
     "text": [
      " Train Loss: 0.1072 | Val MSE: 0.1572\n",
      " EarlyStopping counter: 1/8\n",
      "\n",
      " Epoch 26/50\n"
     ]
    },
    {
     "name": "stderr",
     "output_type": "stream",
     "text": [
      "                                                                      \r"
     ]
    },
    {
     "name": "stdout",
     "output_type": "stream",
     "text": [
      " Train Loss: 0.1063 | Val MSE: 0.1550\n",
      " EarlyStopping counter: 2/8\n",
      "\n",
      " Epoch 27/50\n"
     ]
    },
    {
     "name": "stderr",
     "output_type": "stream",
     "text": [
      "                                                                      \r"
     ]
    },
    {
     "name": "stdout",
     "output_type": "stream",
     "text": [
      " Train Loss: 0.1027 | Val MSE: 0.1547\n",
      " EarlyStopping counter: 3/8\n",
      "\n",
      " Epoch 28/50\n"
     ]
    },
    {
     "name": "stderr",
     "output_type": "stream",
     "text": [
      "                                                                      \r"
     ]
    },
    {
     "name": "stdout",
     "output_type": "stream",
     "text": [
      " Train Loss: 0.1036 | Val MSE: 0.1531\n",
      " Model saved with improved Val MSE: 0.1531\n",
      "\n",
      " Epoch 29/50\n"
     ]
    },
    {
     "name": "stderr",
     "output_type": "stream",
     "text": [
      "                                                                       \r"
     ]
    },
    {
     "name": "stdout",
     "output_type": "stream",
     "text": [
      " Train Loss: 0.0982 | Val MSE: 0.1529\n",
      " Model saved with improved Val MSE: 0.1529\n",
      "\n",
      " Epoch 30/50\n"
     ]
    },
    {
     "name": "stderr",
     "output_type": "stream",
     "text": [
      "                                                                      \r"
     ]
    },
    {
     "name": "stdout",
     "output_type": "stream",
     "text": [
      " Train Loss: 0.0948 | Val MSE: 0.1520\n",
      " Model saved with improved Val MSE: 0.1520\n",
      "\n",
      " Epoch 31/50\n"
     ]
    },
    {
     "name": "stderr",
     "output_type": "stream",
     "text": [
      "                                                                      \r"
     ]
    },
    {
     "name": "stdout",
     "output_type": "stream",
     "text": [
      " Train Loss: 0.0980 | Val MSE: 0.1520\n",
      " EarlyStopping counter: 1/8\n",
      "\n",
      " Epoch 32/50\n"
     ]
    },
    {
     "name": "stderr",
     "output_type": "stream",
     "text": [
      "                                                                      \r"
     ]
    },
    {
     "name": "stdout",
     "output_type": "stream",
     "text": [
      " Train Loss: 0.0935 | Val MSE: 0.1513\n",
      " Model saved with improved Val MSE: 0.1513\n",
      "\n",
      " Epoch 33/50\n"
     ]
    },
    {
     "name": "stderr",
     "output_type": "stream",
     "text": [
      "                                                                      \r"
     ]
    },
    {
     "name": "stdout",
     "output_type": "stream",
     "text": [
      " Train Loss: 0.0913 | Val MSE: 0.1522\n",
      " EarlyStopping counter: 1/8\n",
      "\n",
      " Epoch 34/50\n"
     ]
    },
    {
     "name": "stderr",
     "output_type": "stream",
     "text": [
      "                                                                      \r"
     ]
    },
    {
     "name": "stdout",
     "output_type": "stream",
     "text": [
      " Train Loss: 0.0891 | Val MSE: 0.1534\n",
      " EarlyStopping counter: 2/8\n",
      "\n",
      " Epoch 35/50\n"
     ]
    },
    {
     "name": "stderr",
     "output_type": "stream",
     "text": [
      "                                                                       \r"
     ]
    },
    {
     "name": "stdout",
     "output_type": "stream",
     "text": [
      " Train Loss: 0.0865 | Val MSE: 0.1513\n",
      " EarlyStopping counter: 3/8\n",
      "\n",
      " Epoch 36/50\n"
     ]
    },
    {
     "name": "stderr",
     "output_type": "stream",
     "text": [
      "                                                                      \r"
     ]
    },
    {
     "name": "stdout",
     "output_type": "stream",
     "text": [
      " Train Loss: 0.0869 | Val MSE: 0.1515\n",
      " EarlyStopping counter: 4/8\n",
      "\n",
      " Epoch 37/50\n"
     ]
    },
    {
     "name": "stderr",
     "output_type": "stream",
     "text": [
      "                                                                      \r"
     ]
    },
    {
     "name": "stdout",
     "output_type": "stream",
     "text": [
      " Train Loss: 0.0854 | Val MSE: 0.1509\n",
      " Model saved with improved Val MSE: 0.1509\n",
      "\n",
      " Epoch 38/50\n"
     ]
    },
    {
     "name": "stderr",
     "output_type": "stream",
     "text": [
      "                                                                      \r"
     ]
    },
    {
     "name": "stdout",
     "output_type": "stream",
     "text": [
      " Train Loss: 0.0857 | Val MSE: 0.1516\n",
      " EarlyStopping counter: 1/8\n",
      "\n",
      " Epoch 39/50\n"
     ]
    },
    {
     "name": "stderr",
     "output_type": "stream",
     "text": [
      "                                                                       \r"
     ]
    },
    {
     "name": "stdout",
     "output_type": "stream",
     "text": [
      " Train Loss: 0.0823 | Val MSE: 0.1509\n",
      " EarlyStopping counter: 2/8\n",
      "\n",
      " Epoch 40/50\n"
     ]
    },
    {
     "name": "stderr",
     "output_type": "stream",
     "text": [
      "                                                                      \r"
     ]
    },
    {
     "name": "stdout",
     "output_type": "stream",
     "text": [
      " Train Loss: 0.0808 | Val MSE: 0.1511\n",
      " EarlyStopping counter: 3/8\n",
      "\n",
      " Epoch 41/50\n"
     ]
    },
    {
     "name": "stderr",
     "output_type": "stream",
     "text": [
      "                                                                      \r"
     ]
    },
    {
     "name": "stdout",
     "output_type": "stream",
     "text": [
      " Train Loss: 0.0776 | Val MSE: 0.1519\n",
      " EarlyStopping counter: 4/8\n",
      "\n",
      " Epoch 42/50\n"
     ]
    },
    {
     "name": "stderr",
     "output_type": "stream",
     "text": [
      "                                                                      \r"
     ]
    },
    {
     "name": "stdout",
     "output_type": "stream",
     "text": [
      " Train Loss: 0.0791 | Val MSE: 0.1508\n",
      " EarlyStopping counter: 5/8\n",
      "\n",
      " Epoch 43/50\n"
     ]
    },
    {
     "name": "stderr",
     "output_type": "stream",
     "text": [
      "                                                                      \r"
     ]
    },
    {
     "name": "stdout",
     "output_type": "stream",
     "text": [
      " Train Loss: 0.0818 | Val MSE: 0.1511\n",
      " EarlyStopping counter: 6/8\n",
      "\n",
      " Epoch 44/50\n"
     ]
    },
    {
     "name": "stderr",
     "output_type": "stream",
     "text": [
      "                                                                      \r"
     ]
    },
    {
     "name": "stdout",
     "output_type": "stream",
     "text": [
      " Train Loss: 0.0769 | Val MSE: 0.1506\n",
      " Model saved with improved Val MSE: 0.1506\n",
      "\n",
      " Epoch 45/50\n"
     ]
    },
    {
     "name": "stderr",
     "output_type": "stream",
     "text": [
      "                                                                      \r"
     ]
    },
    {
     "name": "stdout",
     "output_type": "stream",
     "text": [
      " Train Loss: 0.0777 | Val MSE: 0.1511\n",
      " EarlyStopping counter: 1/8\n",
      "\n",
      " Epoch 46/50\n"
     ]
    },
    {
     "name": "stderr",
     "output_type": "stream",
     "text": [
      "                                                                      \r"
     ]
    },
    {
     "name": "stdout",
     "output_type": "stream",
     "text": [
      " Train Loss: 0.0797 | Val MSE: 0.1511\n",
      " EarlyStopping counter: 2/8\n",
      "\n",
      " Epoch 47/50\n"
     ]
    },
    {
     "name": "stderr",
     "output_type": "stream",
     "text": [
      "                                                                      \r"
     ]
    },
    {
     "name": "stdout",
     "output_type": "stream",
     "text": [
      " Train Loss: 0.0792 | Val MSE: 0.1512\n",
      " EarlyStopping counter: 3/8\n",
      "\n",
      " Epoch 48/50\n"
     ]
    },
    {
     "name": "stderr",
     "output_type": "stream",
     "text": [
      "                                                                        \r"
     ]
    },
    {
     "name": "stdout",
     "output_type": "stream",
     "text": [
      " Train Loss: 0.0771 | Val MSE: 0.1506\n",
      " EarlyStopping counter: 4/8\n",
      "\n",
      " Epoch 49/50\n"
     ]
    },
    {
     "name": "stderr",
     "output_type": "stream",
     "text": [
      "                                                                      \r"
     ]
    },
    {
     "name": "stdout",
     "output_type": "stream",
     "text": [
      " Train Loss: 0.0782 | Val MSE: 0.1507\n",
      " EarlyStopping counter: 5/8\n",
      "\n",
      " Epoch 50/50\n"
     ]
    },
    {
     "name": "stderr",
     "output_type": "stream",
     "text": [
      "                                                                      "
     ]
    },
    {
     "name": "stdout",
     "output_type": "stream",
     "text": [
      " Train Loss: 0.0771 | Val MSE: 0.1505\n",
      " EarlyStopping counter: 6/8\n",
      "\n",
      " 训练完成！\n"
     ]
    },
    {
     "name": "stderr",
     "output_type": "stream",
     "text": [
      "\r"
     ]
    }
   ],
   "source": [
    "A.train()"
   ]
  },
  {
   "cell_type": "code",
   "execution_count": 3,
   "id": "60cc6a3f",
   "metadata": {},
   "outputs": [
    {
     "data": {
      "text/plain": [
       "0.0"
      ]
     },
     "execution_count": 3,
     "metadata": {},
     "output_type": "execute_result"
    }
   ],
   "source": [
    "A.predict(\"这是一条测试文本，用于预测连续标签\")"
   ]
  },
  {
   "cell_type": "code",
   "execution_count": 4,
   "id": "a05831b2",
   "metadata": {},
   "outputs": [
    {
     "data": {
      "text/plain": [
       "0.8"
      ]
     },
     "execution_count": 4,
     "metadata": {},
     "output_type": "execute_result"
    }
   ],
   "source": [
    "A.predict(\"这朵花儿也太美了吧！\")"
   ]
  },
  {
   "cell_type": "code",
   "execution_count": 5,
   "id": "4045b4ae",
   "metadata": {},
   "outputs": [
    {
     "data": {
      "text/plain": [
       "-0.6"
      ]
     },
     "execution_count": 5,
     "metadata": {},
     "output_type": "execute_result"
    }
   ],
   "source": [
    "A.predict(\"我讨厌这个角色\")"
   ]
  },
  {
   "cell_type": "markdown",
   "id": "04b783e6",
   "metadata": {},
   "source": [
    "# 2.使用load模式"
   ]
  },
  {
   "cell_type": "code",
   "execution_count": 6,
   "id": "9203a63b",
   "metadata": {},
   "outputs": [
    {
     "name": "stdout",
     "output_type": "stream",
     "text": [
      "正在初始化文本情感分析器...\n",
      "加载数据集...\n",
      "加载预训练Bert-Chinese模型...\n",
      "正在加载模型...\n",
      "模型加载完毕！\n"
     ]
    }
   ],
   "source": [
    "from text_model import text_model\n",
    "\n",
    "A = text_model(type= \"load\")"
   ]
  },
  {
   "cell_type": "code",
   "execution_count": 7,
   "id": "0eec6a06",
   "metadata": {},
   "outputs": [
    {
     "data": {
      "text/plain": [
       "0.0"
      ]
     },
     "execution_count": 7,
     "metadata": {},
     "output_type": "execute_result"
    }
   ],
   "source": [
    "A.predict(\"这是一条测试文本，用于预测连续标签\")"
   ]
  },
  {
   "cell_type": "code",
   "execution_count": 8,
   "id": "c8c2cf29",
   "metadata": {},
   "outputs": [
    {
     "data": {
      "text/plain": [
       "0.8"
      ]
     },
     "execution_count": 8,
     "metadata": {},
     "output_type": "execute_result"
    }
   ],
   "source": [
    "A.predict(\"这朵花儿也太美了吧！\")"
   ]
  },
  {
   "cell_type": "code",
   "execution_count": 9,
   "id": "181e3c7e",
   "metadata": {},
   "outputs": [
    {
     "data": {
      "text/plain": [
       "-0.6"
      ]
     },
     "execution_count": 9,
     "metadata": {},
     "output_type": "execute_result"
    }
   ],
   "source": [
    "A.predict(\"我讨厌这个角色\")"
   ]
  }
 ],
 "metadata": {
  "kernelspec": {
   "display_name": "machinelearning",
   "language": "python",
   "name": "python3"
  },
  "language_info": {
   "codemirror_mode": {
    "name": "ipython",
    "version": 3
   },
   "file_extension": ".py",
   "mimetype": "text/x-python",
   "name": "python",
   "nbconvert_exporter": "python",
   "pygments_lexer": "ipython3",
   "version": "3.12.7"
  }
 },
 "nbformat": 4,
 "nbformat_minor": 5
}
